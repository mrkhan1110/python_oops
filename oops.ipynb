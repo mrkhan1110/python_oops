{
 "cells": [
  {
   "cell_type": "markdown",
   "id": "265153f1-878d-40eb-aa17-d9c53a90f37c",
   "metadata": {},
   "source": [
    "Problem 1: Bank Account Create a class representing a bank account with attributes like account number, account holder name, and balance. Implement methods to deposit and withdraw money from the account.\n"
   ]
  },
  {
   "cell_type": "code",
   "execution_count": 2,
   "id": "cf3a4461-8475-42d9-8095-167d8cfac36a",
   "metadata": {},
   "outputs": [],
   "source": [
    "class BankAccount:\n",
    "    def __init__(self, account_number, account_holder_name, balance):\n",
    "        self.account_number = account_number\n",
    "        self.account_holder_name = account_holder_name\n",
    "        self.balance = balance\n",
    "\n",
    "    def deposit(self, amount):\n",
    "        self.balance += amount\n",
    "\n",
    "    def withdraw(self, amount):\n",
    "        if amount > self.balance:\n",
    "            raise ValueError(\"Insufficient balance\")\n",
    "        self.balance -= amount\n",
    "\n",
    "    def get_balance(self):\n",
    "        return self.balance"
   ]
  },
  {
   "cell_type": "code",
   "execution_count": 14,
   "id": "9419f0c4-8fa6-4cf6-960b-f56e1c039acd",
   "metadata": {},
   "outputs": [
    {
     "name": "stdout",
     "output_type": "stream",
     "text": [
      "The current balance in the account is 1300\n"
     ]
    }
   ],
   "source": [
    "account = BankAccount(1234567890, \"John Doe\", 1000)\n",
    "account.deposit(500)\n",
    "\n",
    "account.withdraw(200)\n",
    "balance = account.get_balance()\n",
    "print(f\"The current balance in the account is {balance}\")"
   ]
  },
  {
   "cell_type": "markdown",
   "id": "f0e271c1-f805-4ebb-b075-f247cd631c5f",
   "metadata": {},
   "source": [
    "Problem 2: Employee Management Create a class representing an employee with attributes like employee ID, name, and salary. Implement methods to calculate the yearly bonus and display employee details."
   ]
  },
  {
   "cell_type": "code",
   "execution_count": 5,
   "id": "f0364017-5cd9-4afc-8552-117ed497aa88",
   "metadata": {},
   "outputs": [
    {
     "name": "stdout",
     "output_type": "stream",
     "text": [
      "Employee ID: 1\n",
      "Name: John Doe\n",
      "Salary: 100000\n",
      "Yearly Bonus: 10000.0\n"
     ]
    }
   ],
   "source": [
    "class Employee:\n",
    "    def __init__(self, employee_id, name, salary):\n",
    "        self.employee_id = employee_id\n",
    "        self.name = name\n",
    "        self.salary = salary\n",
    "\n",
    "    def calculate_yearly_bonus(self):\n",
    "        bonus = self.salary * 0.1\n",
    "        return bonus\n",
    "\n",
    "    def display_employee_details(self):\n",
    "        print(\"Employee ID:\", self.employee_id)\n",
    "        print(\"Name:\", self.name)\n",
    "        print(\"Salary:\", self.salary)\n",
    "        print(\"Yearly Bonus:\", self.calculate_yearly_bonus())\n",
    "\n",
    "\n",
    "\n",
    "employee = Employee(1, \"John Doe\", 100000)\n",
    "\n",
    "\n",
    "employee.display_employee_details()"
   ]
  },
  {
   "cell_type": "markdown",
   "id": "d922d13c-cae7-4ad6-bf8c-ee2ed367cefa",
   "metadata": {},
   "source": [
    "\n",
    "Problem 3: Vehicle Rental Create a class representing a vehicle rental system. Implement methods to rent a vehicle, return a vehicle, and display available vehicles.\n"
   ]
  },
  {
   "cell_type": "code",
   "execution_count": 6,
   "id": "b61503ed-e8f0-47d3-83f2-74f36eebcd68",
   "metadata": {},
   "outputs": [
    {
     "ename": "NameError",
     "evalue": "name 'Vehicle' is not defined",
     "output_type": "error",
     "traceback": [
      "\u001b[0;31m---------------------------------------------------------------------------\u001b[0m",
      "\u001b[0;31mNameError\u001b[0m                                 Traceback (most recent call last)",
      "Cell \u001b[0;32mIn[6], line 41\u001b[0m\n\u001b[1;32m     38\u001b[0m vehicle_rental_system \u001b[38;5;241m=\u001b[39m VehicleRentalSystem()\n\u001b[1;32m     40\u001b[0m \u001b[38;5;66;03m# Add some vehicles to the system\u001b[39;00m\n\u001b[0;32m---> 41\u001b[0m vehicle_rental_system\u001b[38;5;241m.\u001b[39mvehicles\u001b[38;5;241m.\u001b[39mappend(\u001b[43mVehicle\u001b[49m(\u001b[38;5;241m1\u001b[39m, \u001b[38;5;124m\"\u001b[39m\u001b[38;5;124mToyota Camry\u001b[39m\u001b[38;5;124m\"\u001b[39m))\n\u001b[1;32m     42\u001b[0m vehicle_rental_system\u001b[38;5;241m.\u001b[39mvehicles\u001b[38;5;241m.\u001b[39mappend(Vehicle(\u001b[38;5;241m2\u001b[39m, \u001b[38;5;124m\"\u001b[39m\u001b[38;5;124mHonda Accord\u001b[39m\u001b[38;5;124m\"\u001b[39m))\n\u001b[1;32m     43\u001b[0m vehicle_rental_system\u001b[38;5;241m.\u001b[39mvehicles\u001b[38;5;241m.\u001b[39mappend(Vehicle(\u001b[38;5;241m3\u001b[39m, \u001b[38;5;124m\"\u001b[39m\u001b[38;5;124mNissan Altima\u001b[39m\u001b[38;5;124m\"\u001b[39m))\n",
      "\u001b[0;31mNameError\u001b[0m: name 'Vehicle' is not defined"
     ]
    }
   ],
   "source": [
    "class VehicleRentalSystem:\n",
    "    def __init__(self):\n",
    "        self.vehicles = []\n",
    "\n",
    "    def rent_vehicle(self, customer_id, vehicle_id):\n",
    "        \n",
    "        vehicle = self.find_vehicle_by_id(vehicle_id)\n",
    "        if not vehicle.available:\n",
    "            raise Exception(\"Vehicle is not available\")\n",
    "\n",
    "        \n",
    "        vehicle.available = False\n",
    "        vehicle.customer_id = customer_id\n",
    "\n",
    "    def return_vehicle(self, vehicle_id):\n",
    "        \n",
    "        vehicle = self.find_vehicle_by_id(vehicle_id)\n",
    "\n",
    "        # Return the vehicle\n",
    "        vehicle.available = True\n",
    "        vehicle.customer_id = None\n",
    "\n",
    "    def display_available_vehicles(self):\n",
    "        print(\"Available vehicles:\")\n",
    "        for vehicle in self.vehicles:\n",
    "            if vehicle.available:\n",
    "                print(vehicle)\n",
    "\n",
    "    def find_vehicle_by_id(self, vehicle_id):\n",
    "        for vehicle in self.vehicles:\n",
    "            if vehicle.id == vehicle_id:\n",
    "                return vehicle\n",
    "\n",
    "        return None\n",
    "\n",
    "\n",
    "# Create a vehicle rental system object\n",
    "vehicle_rental_system = VehicleRentalSystem()\n",
    "\n",
    "# Add some vehicles to the system\n",
    "vehicle_rental_system.vehicles.append(Vehicle(1, \"Toyota Camry\"))\n",
    "vehicle_rental_system.vehicles.append(Vehicle(2, \"Honda Accord\"))\n",
    "vehicle_rental_system.vehicles.append(Vehicle(3, \"Nissan Altima\"))\n",
    "\n",
    "# Display available vehicles\n",
    "vehicle_rental_system.display_available_vehicles()\n",
    "\n",
    "# Rent a vehicle to a customer\n",
    "vehicle_rental_system.rent_vehicle(1, 2)\n",
    "\n",
    "# Display available vehicles again\n",
    "vehicle_rental_system.display_available_vehicles()\n",
    "\n",
    "# Return the vehicle\n",
    "vehicle_rental_system.return_vehicle(2)\n",
    "\n",
    "# Display available vehicles again\n",
    "vehicle_rental_system.display_available_vehicles()\n"
   ]
  },
  {
   "cell_type": "markdown",
   "id": "09f45075-9d92-4076-b925-9023e28449ed",
   "metadata": {},
   "source": [
    "Problem 4: Library Catalog Create classes representing a library and a book. Implement methods to add books to the library, borrow books, and display available books.\n"
   ]
  },
  {
   "cell_type": "code",
   "execution_count": 7,
   "id": "cab124d6-c72c-4711-9104-02ebbe0f94c8",
   "metadata": {},
   "outputs": [
    {
     "name": "stdout",
     "output_type": "stream",
     "text": [
      "Available books:\n",
      "The Hitchhiker's Guide to the Galaxy by Douglas Adams\n",
      "The Lord of the Rings by J.R.R. Tolkien\n",
      "Harry Potter and the Sorcerer's Stone by J.K. Rowling\n",
      "Available books:\n",
      "The Lord of the Rings by J.R.R. Tolkien\n",
      "Harry Potter and the Sorcerer's Stone by J.K. Rowling\n",
      "Available books:\n",
      "The Hitchhiker's Guide to the Galaxy by Douglas Adams\n",
      "The Lord of the Rings by J.R.R. Tolkien\n",
      "Harry Potter and the Sorcerer's Stone by J.K. Rowling\n"
     ]
    }
   ],
   "source": [
    "class Library:\n",
    "    def __init__(self):\n",
    "        self.books = []\n",
    "\n",
    "    def add_book(self, book):\n",
    "        self.books.append(book)\n",
    "\n",
    "    def borrow_book(self, book_title):\n",
    "        for book in self.books:\n",
    "            if book.title == book_title and book.available:\n",
    "                book.available = False\n",
    "                return book\n",
    "\n",
    "        return None\n",
    "\n",
    "    def return_book(self, book):\n",
    "        book.available = True\n",
    "\n",
    "    def display_available_books(self):\n",
    "        print(\"Available books:\")\n",
    "        for book in self.books:\n",
    "            if book.available:\n",
    "                print(book)\n",
    "\n",
    "\n",
    "class Book:\n",
    "    def __init__(self, title, author, available=True):\n",
    "        self.title = title\n",
    "        self.author = author\n",
    "        self.available = available\n",
    "\n",
    "    def __str__(self):\n",
    "        return f\"{self.title} by {self.author}\"\n",
    "\n",
    "\n",
    "# Create a library object\n",
    "library = Library()\n",
    "\n",
    "# Add some books to the library\n",
    "library.add_book(Book(\"The Hitchhiker's Guide to the Galaxy\", \"Douglas Adams\"))\n",
    "library.add_book(Book(\"The Lord of the Rings\", \"J.R.R. Tolkien\"))\n",
    "library.add_book(Book(\"Harry Potter and the Sorcerer's Stone\", \"J.K. Rowling\"))\n",
    "\n",
    "# Display available books\n",
    "library.display_available_books()\n",
    "\n",
    "# Borrow a book\n",
    "borrowed_book = library.borrow_book(\"The Hitchhiker's Guide to the Galaxy\")\n",
    "\n",
    "# Display available books again\n",
    "library.display_available_books()\n",
    "\n",
    "# Return the book\n",
    "library.return_book(borrowed_book)\n",
    "\n",
    "# Display available books again\n",
    "library.display_available_books()"
   ]
  },
  {
   "cell_type": "markdown",
   "id": "7d6f718c-709f-4ed2-82c8-93b02449b3db",
   "metadata": {},
   "source": [
    "Problem 5: Product Inventory Create classes representing a product and an inventory system. Implement methods to add products to the inventory, update product quantity, and display available products."
   ]
  },
  {
   "cell_type": "code",
   "execution_count": 8,
   "id": "12330a07-1b0a-4c8e-bed5-bb51a95fbd16",
   "metadata": {},
   "outputs": [
    {
     "name": "stdout",
     "output_type": "stream",
     "text": [
      "Available products:\n",
      "Apple (10) - 1.5\n",
      "Banana (5) - 0.75\n",
      "Orange (20) - 1.0\n",
      "Available products:\n",
      "Apple (10) - 1.5\n",
      "Banana (3) - 0.75\n",
      "Orange (20) - 1.0\n"
     ]
    }
   ],
   "source": [
    "class Product:\n",
    "    def __init__(self, product_id, name, quantity, price):\n",
    "        self.product_id = product_id\n",
    "        self.name = name\n",
    "        self.quantity = quantity\n",
    "        self.price = price\n",
    "\n",
    "    def __str__(self):\n",
    "        return f\"{self.name} ({self.quantity}) - {self.price}\"\n",
    "\n",
    "\n",
    "class InventorySystem:\n",
    "    def __init__(self):\n",
    "        self.products = {}\n",
    "\n",
    "    def add_product(self, product):\n",
    "        self.products[product.product_id] = product\n",
    "\n",
    "    def update_product_quantity(self, product_id, new_quantity):\n",
    "        product = self.products[product_id]\n",
    "        product.quantity = new_quantity\n",
    "\n",
    "    def display_available_products(self):\n",
    "        print(\"Available products:\")\n",
    "        for product in self.products.values():\n",
    "            print(product)\n",
    "\n",
    "\n",
    "# Create an inventory system object\n",
    "inventory_system = InventorySystem()\n",
    "\n",
    "# Add some products to the inventory\n",
    "inventory_system.add_product(Product(1, \"Apple\", 10, 1.5))\n",
    "inventory_system.add_product(Product(2, \"Banana\", 5, 0.75))\n",
    "inventory_system.add_product(Product(3, \"Orange\", 20, 1.0))\n",
    "\n",
    "# Display available products\n",
    "inventory_system.display_available_products()\n",
    "\n",
    "# Update the quantity of the banana product\n",
    "inventory_system.update_product_quantity(2, 3)\n",
    "\n",
    "# Display available products again\n",
    "inventory_system.display_available_products()"
   ]
  },
  {
   "cell_type": "markdown",
   "id": "7b52c222-13eb-4c85-9bfc-6fe9a6967dda",
   "metadata": {},
   "source": [
    "Problem 6: Shape Calculation Create a class representing a shape with attributes like length, width, and height. Implement methods to calculate the area and perimeter of the shape.\n"
   ]
  },
  {
   "cell_type": "code",
   "execution_count": 9,
   "id": "59c05953-bfc5-49d8-b630-0260eaa7fdbe",
   "metadata": {},
   "outputs": [
    {
     "name": "stdout",
     "output_type": "stream",
     "text": [
      "Area: 50\n",
      "Perimeter: 30\n"
     ]
    }
   ],
   "source": [
    "class Shape:\n",
    "    def __init__(self, length, width, height):\n",
    "        self.length = length\n",
    "        self.width = width\n",
    "        self.height = height\n",
    "\n",
    "    def calculate_area(self):\n",
    "        return self.length * self.width\n",
    "\n",
    "    def calculate_perimeter(self):\n",
    "        return 2 * (self.length + self.width)\n",
    "\n",
    "\n",
    "# Create a shape object\n",
    "shape = Shape(10, 5, 2)\n",
    "\n",
    "# Calculate the area and perimeter of the shape\n",
    "area = shape.calculate_area()\n",
    "perimeter = shape.calculate_perimeter()\n",
    "\n",
    "# Print the area and perimeter of the shape\n",
    "print(\"Area:\", area)\n",
    "print(\"Perimeter:\", perimeter)"
   ]
  },
  {
   "cell_type": "markdown",
   "id": "f7ae3745-f8f1-47c5-afb2-b228b640b6eb",
   "metadata": {},
   "source": [
    "Problem 7: Student Management Create a class representing a student with attributes like student ID, name, and grades. Implement methods to calculate the average grade and display student details.\n"
   ]
  },
  {
   "cell_type": "code",
   "execution_count": 10,
   "id": "f87dfb1c-c14e-4a79-b777-fab88e8d45b2",
   "metadata": {},
   "outputs": [
    {
     "name": "stdout",
     "output_type": "stream",
     "text": [
      "Student ID: 1\n",
      "Name: John Doe\n",
      "Average grade: 90.0\n"
     ]
    }
   ],
   "source": [
    "class Student:\n",
    "    def __init__(self, student_id, name, grades):\n",
    "        self.student_id = student_id\n",
    "        self.name = name\n",
    "        self.grades = grades\n",
    "\n",
    "    def calculate_average_grade(self):\n",
    "        return sum(self.grades) / len(self.grades)\n",
    "\n",
    "    def display_student_details(self):\n",
    "        print(\"Student ID:\", self.student_id)\n",
    "        print(\"Name:\", self.name)\n",
    "        print(\"Average grade:\", self.calculate_average_grade())\n",
    "\n",
    "\n",
    "# Create a student object\n",
    "student = Student(1, \"John Doe\", [90, 85, 95])\n",
    "\n",
    "# Display student details\n",
    "student.display_student_details()"
   ]
  },
  {
   "cell_type": "markdown",
   "id": "7a548cc1-1828-4a2e-8c8a-8397f80e97c9",
   "metadata": {},
   "source": [
    "Problem 8: Email Management Create a class representing an email with attributes like sender, recipient, and subject. Implement methods to send an email and display email details.\n"
   ]
  },
  {
   "cell_type": "code",
   "execution_count": 11,
   "id": "823f193d-2536-4ad2-b05a-3bfa79600b6f",
   "metadata": {},
   "outputs": [
    {
     "ename": "gaierror",
     "evalue": "[Errno -2] Name or service not known",
     "output_type": "error",
     "traceback": [
      "\u001b[0;31m---------------------------------------------------------------------------\u001b[0m",
      "\u001b[0;31mgaierror\u001b[0m                                  Traceback (most recent call last)",
      "Cell \u001b[0;32mIn[11], line 43\u001b[0m\n\u001b[1;32m     40\u001b[0m email \u001b[38;5;241m=\u001b[39m Email(\u001b[38;5;124m\"\u001b[39m\u001b[38;5;124msender@example.com\u001b[39m\u001b[38;5;124m\"\u001b[39m, \u001b[38;5;124m\"\u001b[39m\u001b[38;5;124mrecipient@example.com\u001b[39m\u001b[38;5;124m\"\u001b[39m, \u001b[38;5;124m\"\u001b[39m\u001b[38;5;124mTest email\u001b[39m\u001b[38;5;124m\"\u001b[39m, \u001b[38;5;124m\"\u001b[39m\u001b[38;5;124mThis is a test email.\u001b[39m\u001b[38;5;124m\"\u001b[39m)\n\u001b[1;32m     42\u001b[0m \u001b[38;5;66;03m# Send the email\u001b[39;00m\n\u001b[0;32m---> 43\u001b[0m \u001b[43memail\u001b[49m\u001b[38;5;241;43m.\u001b[39;49m\u001b[43msend_email\u001b[49m\u001b[43m(\u001b[49m\u001b[38;5;124;43m\"\u001b[39;49m\u001b[38;5;124;43msmtp.example.com\u001b[39;49m\u001b[38;5;124;43m\"\u001b[39;49m\u001b[43m,\u001b[49m\u001b[43m \u001b[49m\u001b[38;5;241;43m587\u001b[39;49m\u001b[43m)\u001b[49m\n\u001b[1;32m     45\u001b[0m \u001b[38;5;66;03m# Display email details\u001b[39;00m\n\u001b[1;32m     46\u001b[0m email\u001b[38;5;241m.\u001b[39mdisplay_email_details()\n",
      "Cell \u001b[0;32mIn[11], line 11\u001b[0m, in \u001b[0;36mEmail.send_email\u001b[0;34m(self, smtp_server, smtp_port)\u001b[0m\n\u001b[1;32m     10\u001b[0m \u001b[38;5;28;01mdef\u001b[39;00m \u001b[38;5;21msend_email\u001b[39m(\u001b[38;5;28mself\u001b[39m, smtp_server, smtp_port):\n\u001b[0;32m---> 11\u001b[0m     smtp_obj \u001b[38;5;241m=\u001b[39m \u001b[43msmtplib\u001b[49m\u001b[38;5;241;43m.\u001b[39;49m\u001b[43mSMTP\u001b[49m\u001b[43m(\u001b[49m\u001b[43msmtp_server\u001b[49m\u001b[43m,\u001b[49m\u001b[43m \u001b[49m\u001b[43msmtp_port\u001b[49m\u001b[43m)\u001b[49m\n\u001b[1;32m     12\u001b[0m     smtp_obj\u001b[38;5;241m.\u001b[39mstarttls()\n\u001b[1;32m     14\u001b[0m     \u001b[38;5;66;03m# Login to the SMTP server\u001b[39;00m\n",
      "File \u001b[0;32m/opt/conda/lib/python3.10/smtplib.py:255\u001b[0m, in \u001b[0;36mSMTP.__init__\u001b[0;34m(self, host, port, local_hostname, timeout, source_address)\u001b[0m\n\u001b[1;32m    252\u001b[0m \u001b[38;5;28mself\u001b[39m\u001b[38;5;241m.\u001b[39m_auth_challenge_count \u001b[38;5;241m=\u001b[39m \u001b[38;5;241m0\u001b[39m\n\u001b[1;32m    254\u001b[0m \u001b[38;5;28;01mif\u001b[39;00m host:\n\u001b[0;32m--> 255\u001b[0m     (code, msg) \u001b[38;5;241m=\u001b[39m \u001b[38;5;28;43mself\u001b[39;49m\u001b[38;5;241;43m.\u001b[39;49m\u001b[43mconnect\u001b[49m\u001b[43m(\u001b[49m\u001b[43mhost\u001b[49m\u001b[43m,\u001b[49m\u001b[43m \u001b[49m\u001b[43mport\u001b[49m\u001b[43m)\u001b[49m\n\u001b[1;32m    256\u001b[0m     \u001b[38;5;28;01mif\u001b[39;00m code \u001b[38;5;241m!=\u001b[39m \u001b[38;5;241m220\u001b[39m:\n\u001b[1;32m    257\u001b[0m         \u001b[38;5;28mself\u001b[39m\u001b[38;5;241m.\u001b[39mclose()\n",
      "File \u001b[0;32m/opt/conda/lib/python3.10/smtplib.py:341\u001b[0m, in \u001b[0;36mSMTP.connect\u001b[0;34m(self, host, port, source_address)\u001b[0m\n\u001b[1;32m    339\u001b[0m     port \u001b[38;5;241m=\u001b[39m \u001b[38;5;28mself\u001b[39m\u001b[38;5;241m.\u001b[39mdefault_port\n\u001b[1;32m    340\u001b[0m sys\u001b[38;5;241m.\u001b[39maudit(\u001b[38;5;124m\"\u001b[39m\u001b[38;5;124msmtplib.connect\u001b[39m\u001b[38;5;124m\"\u001b[39m, \u001b[38;5;28mself\u001b[39m, host, port)\n\u001b[0;32m--> 341\u001b[0m \u001b[38;5;28mself\u001b[39m\u001b[38;5;241m.\u001b[39msock \u001b[38;5;241m=\u001b[39m \u001b[38;5;28;43mself\u001b[39;49m\u001b[38;5;241;43m.\u001b[39;49m\u001b[43m_get_socket\u001b[49m\u001b[43m(\u001b[49m\u001b[43mhost\u001b[49m\u001b[43m,\u001b[49m\u001b[43m \u001b[49m\u001b[43mport\u001b[49m\u001b[43m,\u001b[49m\u001b[43m \u001b[49m\u001b[38;5;28;43mself\u001b[39;49m\u001b[38;5;241;43m.\u001b[39;49m\u001b[43mtimeout\u001b[49m\u001b[43m)\u001b[49m\n\u001b[1;32m    342\u001b[0m \u001b[38;5;28mself\u001b[39m\u001b[38;5;241m.\u001b[39mfile \u001b[38;5;241m=\u001b[39m \u001b[38;5;28;01mNone\u001b[39;00m\n\u001b[1;32m    343\u001b[0m (code, msg) \u001b[38;5;241m=\u001b[39m \u001b[38;5;28mself\u001b[39m\u001b[38;5;241m.\u001b[39mgetreply()\n",
      "File \u001b[0;32m/opt/conda/lib/python3.10/smtplib.py:312\u001b[0m, in \u001b[0;36mSMTP._get_socket\u001b[0;34m(self, host, port, timeout)\u001b[0m\n\u001b[1;32m    310\u001b[0m \u001b[38;5;28;01mif\u001b[39;00m \u001b[38;5;28mself\u001b[39m\u001b[38;5;241m.\u001b[39mdebuglevel \u001b[38;5;241m>\u001b[39m \u001b[38;5;241m0\u001b[39m:\n\u001b[1;32m    311\u001b[0m     \u001b[38;5;28mself\u001b[39m\u001b[38;5;241m.\u001b[39m_print_debug(\u001b[38;5;124m'\u001b[39m\u001b[38;5;124mconnect: to\u001b[39m\u001b[38;5;124m'\u001b[39m, (host, port), \u001b[38;5;28mself\u001b[39m\u001b[38;5;241m.\u001b[39msource_address)\n\u001b[0;32m--> 312\u001b[0m \u001b[38;5;28;01mreturn\u001b[39;00m \u001b[43msocket\u001b[49m\u001b[38;5;241;43m.\u001b[39;49m\u001b[43mcreate_connection\u001b[49m\u001b[43m(\u001b[49m\u001b[43m(\u001b[49m\u001b[43mhost\u001b[49m\u001b[43m,\u001b[49m\u001b[43m \u001b[49m\u001b[43mport\u001b[49m\u001b[43m)\u001b[49m\u001b[43m,\u001b[49m\u001b[43m \u001b[49m\u001b[43mtimeout\u001b[49m\u001b[43m,\u001b[49m\n\u001b[1;32m    313\u001b[0m \u001b[43m                                \u001b[49m\u001b[38;5;28;43mself\u001b[39;49m\u001b[38;5;241;43m.\u001b[39;49m\u001b[43msource_address\u001b[49m\u001b[43m)\u001b[49m\n",
      "File \u001b[0;32m/opt/conda/lib/python3.10/socket.py:824\u001b[0m, in \u001b[0;36mcreate_connection\u001b[0;34m(address, timeout, source_address)\u001b[0m\n\u001b[1;32m    822\u001b[0m host, port \u001b[38;5;241m=\u001b[39m address\n\u001b[1;32m    823\u001b[0m err \u001b[38;5;241m=\u001b[39m \u001b[38;5;28;01mNone\u001b[39;00m\n\u001b[0;32m--> 824\u001b[0m \u001b[38;5;28;01mfor\u001b[39;00m res \u001b[38;5;129;01min\u001b[39;00m \u001b[43mgetaddrinfo\u001b[49m\u001b[43m(\u001b[49m\u001b[43mhost\u001b[49m\u001b[43m,\u001b[49m\u001b[43m \u001b[49m\u001b[43mport\u001b[49m\u001b[43m,\u001b[49m\u001b[43m \u001b[49m\u001b[38;5;241;43m0\u001b[39;49m\u001b[43m,\u001b[49m\u001b[43m \u001b[49m\u001b[43mSOCK_STREAM\u001b[49m\u001b[43m)\u001b[49m:\n\u001b[1;32m    825\u001b[0m     af, socktype, proto, canonname, sa \u001b[38;5;241m=\u001b[39m res\n\u001b[1;32m    826\u001b[0m     sock \u001b[38;5;241m=\u001b[39m \u001b[38;5;28;01mNone\u001b[39;00m\n",
      "File \u001b[0;32m/opt/conda/lib/python3.10/socket.py:955\u001b[0m, in \u001b[0;36mgetaddrinfo\u001b[0;34m(host, port, family, type, proto, flags)\u001b[0m\n\u001b[1;32m    952\u001b[0m \u001b[38;5;66;03m# We override this function since we want to translate the numeric family\u001b[39;00m\n\u001b[1;32m    953\u001b[0m \u001b[38;5;66;03m# and socket type values to enum constants.\u001b[39;00m\n\u001b[1;32m    954\u001b[0m addrlist \u001b[38;5;241m=\u001b[39m []\n\u001b[0;32m--> 955\u001b[0m \u001b[38;5;28;01mfor\u001b[39;00m res \u001b[38;5;129;01min\u001b[39;00m \u001b[43m_socket\u001b[49m\u001b[38;5;241;43m.\u001b[39;49m\u001b[43mgetaddrinfo\u001b[49m\u001b[43m(\u001b[49m\u001b[43mhost\u001b[49m\u001b[43m,\u001b[49m\u001b[43m \u001b[49m\u001b[43mport\u001b[49m\u001b[43m,\u001b[49m\u001b[43m \u001b[49m\u001b[43mfamily\u001b[49m\u001b[43m,\u001b[49m\u001b[43m \u001b[49m\u001b[38;5;28;43mtype\u001b[39;49m\u001b[43m,\u001b[49m\u001b[43m \u001b[49m\u001b[43mproto\u001b[49m\u001b[43m,\u001b[49m\u001b[43m \u001b[49m\u001b[43mflags\u001b[49m\u001b[43m)\u001b[49m:\n\u001b[1;32m    956\u001b[0m     af, socktype, proto, canonname, sa \u001b[38;5;241m=\u001b[39m res\n\u001b[1;32m    957\u001b[0m     addrlist\u001b[38;5;241m.\u001b[39mappend((_intenum_converter(af, AddressFamily),\n\u001b[1;32m    958\u001b[0m                      _intenum_converter(socktype, SocketKind),\n\u001b[1;32m    959\u001b[0m                      proto, canonname, sa))\n",
      "\u001b[0;31mgaierror\u001b[0m: [Errno -2] Name or service not known"
     ]
    }
   ],
   "source": [
    "import smtplib\n",
    "\n",
    "class Email:\n",
    "    def __init__(self, sender, recipient, subject, body):\n",
    "        self.sender = sender\n",
    "        self.recipient = recipient\n",
    "        self.subject = subject\n",
    "        self.body = body\n",
    "\n",
    "    def send_email(self, smtp_server, smtp_port):\n",
    "        smtp_obj = smtplib.SMTP(smtp_server, smtp_port)\n",
    "        smtp_obj.starttls()\n",
    "\n",
    "        # Login to the SMTP server\n",
    "        smtp_obj.login(self.sender, \"YOUR_SMTP_PASSWORD\")\n",
    "\n",
    "        # Send the email\n",
    "        smtp_obj.sendmail(self.sender, self.recipient, self.format_email())\n",
    "\n",
    "        # Close the SMTP connection\n",
    "        smtp_obj.quit()\n",
    "\n",
    "    def format_email(self):\n",
    "        email = f\"From: {self.sender}\\n\"\n",
    "        email += f\"To: {self.recipient}\\n\"\n",
    "        email += f\"Subject: {self.subject}\\n\"\n",
    "        email += f\"\\n\"\n",
    "        email += f\"{self.body}\\n\"\n",
    "\n",
    "        return email\n",
    "\n",
    "    def display_email_details(self):\n",
    "        print(\"Sender:\", self.sender)\n",
    "        print(\"Recipient:\", self.recipient)\n",
    "        print(\"Subject:\", self.subject)\n",
    "        print(\"Body:\", self.body)\n",
    "\n",
    "\n",
    "# Create an email object\n",
    "email = Email(\"sender@example.com\", \"recipient@example.com\", \"Test email\", \"This is a test email.\")\n",
    "\n",
    "# Send the email\n",
    "email.send_email(\"smtp.example.com\", 587)\n",
    "\n",
    "# Display email details\n",
    "email.display_email_details()\n"
   ]
  },
  {
   "cell_type": "markdown",
   "id": "7f736f80-76da-4f39-b46e-31802f36a97b",
   "metadata": {},
   "source": [
    "Problem 9: Social Media Profile Create a class representing a social media profile with attributes like username and posts. Implement methods to add posts, display posts, and search for posts by keyword."
   ]
  },
  {
   "cell_type": "code",
   "execution_count": 12,
   "id": "9997f6e1-7ba0-4313-853f-910681cabd93",
   "metadata": {},
   "outputs": [
    {
     "name": "stdout",
     "output_type": "stream",
     "text": [
      "This is my first post!\n",
      "This is my second post!\n",
      "This is my third post!\n",
      "This is my third post!\n"
     ]
    }
   ],
   "source": [
    "class SocialMediaProfile:\n",
    "    def __init__(self, username):\n",
    "        self.username = username\n",
    "        self.posts = []\n",
    "\n",
    "    def add_post(self, post):\n",
    "        self.posts.append(post)\n",
    "\n",
    "    def display_posts(self):\n",
    "        for post in self.posts:\n",
    "            print(post)\n",
    "\n",
    "    def search_posts_by_keyword(self, keyword):\n",
    "        matching_posts = []\n",
    "        for post in self.posts:\n",
    "            if keyword in post:\n",
    "                matching_posts.append(post)\n",
    "\n",
    "        return matching_posts\n",
    "\n",
    "\n",
    "# Create a social media profile object\n",
    "profile = SocialMediaProfile(\"johndoe\")\n",
    "\n",
    "# Add some posts to the profile\n",
    "profile.add_post(\"This is my first post!\")\n",
    "profile.add_post(\"This is my second post!\")\n",
    "profile.add_post(\"This is my third post!\")\n",
    "\n",
    "# Display all posts\n",
    "profile.display_posts()\n",
    "\n",
    "# Search for posts by keyword\n",
    "matching_posts = profile.search_posts_by_keyword(\"third\")\n",
    "\n",
    "# Display the matching posts\n",
    "for post in matching_posts:\n",
    "    print(post)"
   ]
  },
  {
   "cell_type": "markdown",
   "id": "b4919bf3-5475-474a-abe7-970633c2e590",
   "metadata": {},
   "source": [
    "Problem 10: ToDo List Create a class representing a ToDo list with attributes like tasks and due dates. Implement methods to add tasks, mark tasks as completed, and display pending tasks"
   ]
  },
  {
   "cell_type": "code",
   "execution_count": 13,
   "id": "2244381f-5347-4757-a333-c73ca21ddf15",
   "metadata": {},
   "outputs": [
    {
     "ename": "SyntaxError",
     "evalue": "invalid syntax (1960363385.py, line 33)",
     "output_type": "error",
     "traceback": [
      "\u001b[0;36m  Cell \u001b[0;32mIn[13], line 33\u001b[0;36m\u001b[0m\n\u001b[0;31m    to_do_list.display_pending_tasks()|\u001b[0m\n\u001b[0m                                       ^\u001b[0m\n\u001b[0;31mSyntaxError\u001b[0m\u001b[0;31m:\u001b[0m invalid syntax\n"
     ]
    }
   ],
   "source": [
    "class ToDoList:\n",
    "    def __init__(self):\n",
    "        self.tasks = []\n",
    "\n",
    "    def add_task(self, task, due_date):\n",
    "        self.tasks.append((task, due_date))\n",
    "\n",
    "    def mark_task_as_completed(self, task):\n",
    "        for i in range(len(self.tasks)):\n",
    "            if self.tasks[i][0] == task:\n",
    "                self.tasks[i] = (task, True)\n",
    "                break\n",
    "\n",
    "    def display_pending_tasks(self):\n",
    "        print(\"Pending tasks:\")\n",
    "        for task in self.tasks:\n",
    "            if not task[1]:\n",
    "                print(task[0])\n",
    "\n",
    "\n",
    "# Create a to-do list object\n",
    "to_do_list = ToDoList()\n",
    "\n",
    "# Add some tasks to the to-do list\n",
    "to_do_list.add_task(\"Finish homework\", \"2023-10-14\")\n",
    "to_do_list.add_task(\"Go to the gym\", \"2023-10-15\")\n",
    "to_do_list.add_task(\"Clean the house\", \"2023-10-16\")\n",
    "\n",
    "# Mark the \"Finish homework\" task as completed\n",
    "to_do_list.mark_task_as_completed(\"Finish homework\")\n",
    "\n",
    "# Display the pending tasks\n",
    "to_do_list.display_pending_tasks()|"
   ]
  },
  {
   "cell_type": "code",
   "execution_count": null,
   "id": "093b150c-0ee9-44e9-ae53-4e5209b5dc94",
   "metadata": {},
   "outputs": [],
   "source": []
  }
 ],
 "metadata": {
  "kernelspec": {
   "display_name": "Python 3 (ipykernel)",
   "language": "python",
   "name": "python3"
  },
  "language_info": {
   "codemirror_mode": {
    "name": "ipython",
    "version": 3
   },
   "file_extension": ".py",
   "mimetype": "text/x-python",
   "name": "python",
   "nbconvert_exporter": "python",
   "pygments_lexer": "ipython3",
   "version": "3.10.8"
  }
 },
 "nbformat": 4,
 "nbformat_minor": 5
}
